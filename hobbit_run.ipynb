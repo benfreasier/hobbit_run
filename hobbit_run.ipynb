{
 "cells": [
  {
   "cell_type": "markdown",
   "id": "2b57488a",
   "metadata": {},
   "source": [
    "# Hobbit Run\n",
    "This is a game where a hobbit is chased around the screen by orcs. By clever dodging amongst the tree, the hobbit can get the orcs to kill themselves on the trees. At the higher levels, the hobbit gains the ability sometimes hide in the trees and attack orcs directly."
   ]
  },
  {
   "cell_type": "markdown",
   "id": "a49cbf1e",
   "metadata": {},
   "source": [
    "# Rules\n",
    "The game will begin by placing trees and orcs on a square grid. The hobbit will be place in the middle of the grid, and any orcs in the immediate vicinity of the hobbit will be excluded. (Gotta give the hobbit a fair chance!) The hobbit can be moved around using the keyboard using any combination of these systems:\n",
    "\n",
    "Numeric keypad:\n",
    "\n",
    "    7 8 9\n",
    "\n",
    "    4 5 6\n",
    "\n",
    "    1 2 3\n",
    "    \n",
    "Arrows:\n",
    "\n",
    "         UP\n",
    "\n",
    "    LEFT    RIGHT\n",
    "\n",
    "        DOWN\n",
    "        \n",
    "Alphabetic:\n",
    "\n",
    "    y u i\n",
    "\n",
    "    h j k\n",
    "\n",
    "    n m ,\n",
    "    \n",
    "After the hobbit makes its move, the orcs will blindly move in the most direct way possible regardless of tree obstacles. When an orc moves into a tree square, it is eliminated. Often, more than one orc occupies a single square. This matters not a whit as far as affecting the hobbit's strategy as the orcs will all move as a group. \n",
    "\n",
    "Once all of the orcs are eliminated, the hobbit is promoted to gain greater chances of hiding in the trees or attacking (not avoid capture) orcs. Of course, as the hobbit get more capability the levels get harder. \n",
    "\n",
    "Once the hobit defeats all of the ocs on all levels, it becomes the king of the orcs. If the hobbit unsuccessfully hides in the trees, or or unsuccessfully attack an orc, or is caught by an orc, the hobbit starts over at the lowest level.\n",
    "\n",
    "To quit the game, close the window.\n",
    "\n"
   ]
  },
  {
   "cell_type": "markdown",
   "id": "9dbee536",
   "metadata": {},
   "source": [
    "# Program\n",
    "\n",
    "This program is motivated by the ticking off an item on my bucket list, the rewriting of a favourite game. Almost 40 years ago, I bought a Commodore 64 (C64), but I had limited software development tools on it. I did have access to a cross assembler on a Digital DEC10, so I wrote a version of this game using the cross assembler for a 6502 CPU and downloaded it on a very slow modem (300 BAUD) to my C64. With the software tools in hand on my PC, I have now been able to write a much more concise version with more features than the original. In particular, the sprite collision code in [pygame](https://www.pygame.org/news) simplified the coding by quite a bit.\n",
    "\n",
    "To run the code as is, all you need to do is to install Python, Jupyter, and pygame. You will also the graphics for the sprites: *tree.jpg, orc.jpg, hobbit.jpg*.\n",
    "\n",
    "If there is sufficient demand, I might put the game up on [Binder](https://mybinder.org/).\n"
   ]
  },
  {
   "cell_type": "markdown",
   "id": "0c698acd",
   "metadata": {},
   "source": [
    "## Imports"
   ]
  },
  {
   "cell_type": "markdown",
   "id": "6e535ab8",
   "metadata": {},
   "source": [
    "Firstly, we will import the built in modules random (for probabilistic decisions), collections (for nametupole to hold static level information), and math (for copysign function used in orc move calculations)."
   ]
  },
  {
   "cell_type": "code",
   "execution_count": 1,
   "id": "628a76c7",
   "metadata": {},
   "outputs": [],
   "source": [
    "import random\n",
    "from collections import namedtuple\n",
    "from math import copysign\n",
    "from time import sleep\n",
    "# import os\n",
    "# os.environ[\"SDL_VIDEODRIVER\"] = \"directfb\""
   ]
  },
  {
   "cell_type": "markdown",
   "id": "187c4df2",
   "metadata": {},
   "source": [
    "We then import the third party module, pygame, because it has a number of nice collision detection routine using sprites. We also import from pygame definitions of the various keyboard key code we need when doing event processing.\n",
    "\n",
    "There are three ways of navigating the hobbit around the board.\n",
    "\n",
    "Numeric keypad:\n",
    "\n",
    "    7 8 9\n",
    "\n",
    "    4 5 6\n",
    "\n",
    "    1 2 3\n",
    "    \n",
    "Arrows:\n",
    "\n",
    "         UP\n",
    "\n",
    "    LEFT    RIGHT\n",
    "\n",
    "        DOWN\n",
    "        \n",
    "Alphabetic:\n",
    "\n",
    "    y u i\n",
    "\n",
    "    h j k\n",
    "\n",
    "    n m ,"
   ]
  },
  {
   "cell_type": "code",
   "execution_count": 3,
   "id": "13e1a1d5",
   "metadata": {},
   "outputs": [],
   "source": [
    "import pygame\n",
    "from pygame.locals import (\n",
    "    RLEACCEL,\n",
    "    K_KP1,  # keypad 1, SW\n",
    "    K_KP2,  # keypad 2, S\n",
    "    K_KP3,  # keypad 3, SE\n",
    "    K_KP4,  # keypad 4, W\n",
    "    K_KP5,  # keypad 5, say put\n",
    "    K_KP6,  # keypad 6, E\n",
    "    K_KP7,  # keypad 7, NW\n",
    "    K_KP8,  # keypad 8, N\n",
    "    K_KP9,  # keypad 9, NE\n",
    "    K_UP,  # up arrow, N\n",
    "    K_DOWN,  # down arrow, S\n",
    "    K_RIGHT,  # right arrow, E\n",
    "    K_LEFT,  # left arrow, W\n",
    "    K_COMMA, # comma, SE\n",
    "    K_h,  # h, W\n",
    "    K_i,  # i, NE\n",
    "    K_j,  # j,stay put\n",
    "    K_k,  # k, E\n",
    "    K_m,  # m, S\n",
    "    K_n,  # n, SW\n",
    "    K_u,  # u, NW\n",
    "    K_y,  # y, N\n",
    ")\n",
    "from pygame.locals import *"
   ]
  },
  {
   "cell_type": "markdown",
   "id": "1b8317f7",
   "metadata": {},
   "source": [
    "## Global Variables"
   ]
  },
  {
   "cell_type": "markdown",
   "id": "dca44ec6",
   "metadata": {},
   "source": [
    "Here we define a `namedtuple` to hold the parameters necessary to define the starting positions at each level.\n",
    "\n",
    "- `title` - Rank of hobbit in campaign\n",
    "- `tree_density` - probability of a cell being occupied by a tree\n",
    "- `orc_density` - probability of a cell being occupied by an orc \n",
    "- `buff` - orc free distance between hobbit and orcs at start\n",
    "- `hide_prob` - probability of successful hide in trees of hobbit\n",
    "- `attack_prob` - probability of a successful attack of hobbit on an orc\n",
    "\n",
    "These level parameters have not been been fine tuned! However, each level will be more difficult that the last."
   ]
  },
  {
   "cell_type": "code",
   "execution_count": 4,
   "id": "98cdde40",
   "metadata": {},
   "outputs": [],
   "source": [
    "Level = namedtuple(\"Level\", \"title tree_density orc_density buff hide_prob attack_prob\")\n",
    "levels = [\n",
    "    Level(\"Novice\", .05, .01, 4, 0, 0),\n",
    "    Level(\"Woodsman\", .05, .015, 4, .1, .1),\n",
    "    Level(\"Tracker\", .05, .02, 4, .2, .2),\n",
    "    Level(\"Strider\", .05, .02, 3, .3, .30),\n",
    "    Level(\"Warrior\", .05, .025, 3, .4, .4),\n",
    "    Level(\"Elder\", .05, .025, 2, .5, .5),\n",
    "    Level(\"Chieftan\", .05, .025, 2, .6, .6),\n",
    "    Level(\"Hero\", .05, .030, 2, .7, .7),\n",
    "    Level(\"Legend\", .05, .035, 2, .8, .8),\n",
    "    Level(\"Wizard\", .05, .035, 2, .9, .9),\n",
    "]"
   ]
  },
  {
   "cell_type": "markdown",
   "id": "5e729d39",
   "metadata": {},
   "source": [
    "Here we define a number of variables to describe our screen.\n",
    "\n",
    "- `cells_per_edge` - number of cells per edge of our square playing area\n",
    "- `cell_size` - size of cel in pixels (sprite gfx must conform!)\n",
    "- `hob_pos` - initial position of hobbit in pixels (centre of screen)\n",
    "- `edge` - size of playing edge in pixels\n",
    "- `number_cells` - number of cells in playing area\n",
    "- `background_colour` - background colour (kinda brown)"
   ]
  },
  {
   "cell_type": "code",
   "execution_count": 5,
   "id": "869fe655",
   "metadata": {},
   "outputs": [],
   "source": [
    "cells_per_edge = 19\n",
    "cell_size = 36\n",
    "hob_pos = int(cells_per_edge / 2) * cell_size\n",
    "edge = cells_per_edge * cell_size\n",
    "number_cells = cell_size * cell_size\n",
    "background_colour = (165, 100, 100)"
   ]
  },
  {
   "cell_type": "markdown",
   "id": "6364f98f",
   "metadata": {},
   "source": [
    "## Classes\n",
    "\n",
    "Here we define a number of classes derived from pygame's sprite class. The imagery for all of these classes will all be of the same size with background to be set transparent (which my images are not yet doing that properly), and the rectangles of the sprite are defined as the same side as the image for purpose of calculating collisions defined as overlaps of the sprite image rectangles."
   ]
  },
  {
   "cell_type": "markdown",
   "id": "c78f7c06",
   "metadata": {},
   "source": [
    "### Tree\n",
    "\n",
    "This class defines a sprite repesenting a tree with imagery from *tree.jpg* with collision rectangle being cell sized. "
   ]
  },
  {
   "cell_type": "code",
   "execution_count": 6,
   "id": "c9423798",
   "metadata": {},
   "outputs": [],
   "source": [
    "class Tree(pygame.sprite.Sprite):\n",
    "    def __init__(self):\n",
    "        super(Tree, self).__init__()\n",
    "        self.surf = pygame.Surface((cell_size, cell_size))\n",
    "        self.surf = pygame.image.load(\"tree.jpg\")  # .convert()\n",
    "        self.surf.set_colorkey((255, 255, 255), RLEACCEL)\n",
    "        self.image = self.surf\n",
    "        self.rect = self.surf.get_rect()"
   ]
  },
  {
   "cell_type": "markdown",
   "id": "4d3dc8d7",
   "metadata": {},
   "source": [
    "### Orc\n",
    "This class defines a sprite repesenting an orc with imagery from *orc.jpg* with collision rectangle being cell sized. "
   ]
  },
  {
   "cell_type": "code",
   "execution_count": 7,
   "id": "5dd38b74",
   "metadata": {},
   "outputs": [],
   "source": [
    "class Orc(pygame.sprite.Sprite):\n",
    "    def __init__(self):\n",
    "        super(Orc, self).__init__()\n",
    "        self.surf = pygame.Surface((cell_size, cell_size))\n",
    "        self.surf = pygame.image.load(\"orc.jpg\")  # .convert()\n",
    "        self.surf.set_colorkey((255, 255, 255), RLEACCEL)\n",
    "        self.rect = self.surf.get_rect()\n",
    "        self.image = self.surf"
   ]
  },
  {
   "cell_type": "markdown",
   "id": "ada5b7ff",
   "metadata": {},
   "source": [
    "### Hobbit\n",
    "This class defines a sprite repesenting the hobbit with imagery from *hobbit.jpg* with collision rectangle being cell sized. "
   ]
  },
  {
   "cell_type": "code",
   "execution_count": 8,
   "id": "b0209197",
   "metadata": {},
   "outputs": [],
   "source": [
    "class Hobbit(pygame.sprite.Sprite):\n",
    "    def __init__(self):\n",
    "        super(Hobbit, self).__init__()\n",
    "        self.surf = pygame.Surface((cell_size, cell_size))\n",
    "        self.surf = pygame.image.load(\"hobbit.jpg\")  # .convert()\n",
    "        self.surf.set_colorkey((255, 255, 255), RLEACCEL)\n",
    "        self.rect = self.surf.get_rect()\n",
    "        self.image = self.surf"
   ]
  },
  {
   "cell_type": "markdown",
   "id": "4b0097bd",
   "metadata": {},
   "source": [
    "### CZ\n",
    "This class defines a hidden sprite (it is never rendered upon the screen) which will be used at the start to clear orcs from the buffer zone surrounding the hobbit in the middle of the screen. The rectangle is defined in terms of screen coordinates rather than being read from a image file."
   ]
  },
  {
   "cell_type": "code",
   "execution_count": 9,
   "id": "3e558a0e",
   "metadata": {},
   "outputs": [],
   "source": [
    "class CZ(pygame.sprite.Sprite):\n",
    "    def __init__(self, buff):\n",
    "        super(CZ, self).__init__()\n",
    "        top = hob_pos - buff * cell_size\n",
    "        left = hob_pos - buff * cell_size\n",
    "        height = (2 * buff + 1) * cell_size\n",
    "        right = (2 * buff + 1) * cell_size\n",
    "        self.r = (top, left, height, right)\n",
    "        self.surf = pygame.Surface((height, height))\n",
    "        self.rect = self.surf.get_rect()\n",
    "        self.rect.x = left\n",
    "        self.rect.y = top"
   ]
  },
  {
   "cell_type": "markdown",
   "id": "2d9c2643",
   "metadata": {},
   "source": [
    "## Functions"
   ]
  },
  {
   "cell_type": "markdown",
   "id": "5f6745ff",
   "metadata": {},
   "source": [
    "### `msg()`\n",
    "This function print the string, `current_msg` into the message aea below the playing area."
   ]
  },
  {
   "cell_type": "code",
   "execution_count": 10,
   "id": "1a172d42",
   "metadata": {},
   "outputs": [],
   "source": [
    "def msg():\n",
    "    font = pygame.font.SysFont(None, cell_size - 4)\n",
    "    img = font.render(current_msg, True, (255, 255, 0))\n",
    "    screen.blit(img, (2, edge + 5))"
   ]
  },
  {
   "cell_type": "markdown",
   "id": "3c53a559",
   "metadata": {},
   "source": [
    "### `refresh_screen()`\n",
    "This function draw the screen and then displays it\n",
    "- sets background colour\n",
    "- draws the tree sprites\n",
    "- draws the orc sprites\n",
    "- draws the hobbit sprite\n",
    "- optionally draws the boundary of teh buffer zone between the hobbit and orcs at the beginning of the scenario\n",
    "- flips the diplay buffers"
   ]
  },
  {
   "cell_type": "code",
   "execution_count": 11,
   "id": "d7d951e7",
   "metadata": {},
   "outputs": [],
   "source": [
    "def refresh_screen(draw_buffer=True):\n",
    "    screen.fill(background_colour)\n",
    "    trees.draw(screen)\n",
    "    orcs.draw(screen)\n",
    "    hl.draw(screen)\n",
    "    if draw_buffer:\n",
    "        pygame.draw.rect(screen, (0, 0, 0), cz.r, 1)\n",
    "    msg()\n",
    "    pygame.display.flip()"
   ]
  },
  {
   "cell_type": "markdown",
   "id": "b4f6c77f",
   "metadata": {},
   "source": [
    "## Game Initialization\n",
    "\n",
    "- Initialize the `pygame` engine\n",
    "- define the screen including a message display area below the playing area\n",
    "- set the game player level, `level_index`, to 0"
   ]
  },
  {
   "cell_type": "code",
   "execution_count": 12,
   "id": "76a9eb4f",
   "metadata": {},
   "outputs": [],
   "source": [
    "pygame.init()\n",
    "screen = pygame.display.set_mode((edge, edge + cell_size))\n",
    "level_index = 0"
   ]
  },
  {
   "cell_type": "markdown",
   "id": "291e34d3",
   "metadata": {},
   "source": [
    "## Main Game Loop\n",
    "\n",
    "This is the main logic to implement the hobbit's moves and the orcs' reactive moves."
   ]
  },
  {
   "cell_type": "code",
   "execution_count": 13,
   "id": "1029e6f8",
   "metadata": {
    "hide_input": false
   },
   "outputs": [],
   "source": [
    "running = True # flag that says continue the game\n",
    "while running:\n",
    "    while level_index < len(levels): \n",
    "        if not running:\n",
    "            break\n",
    "        # set up scenario for the level\n",
    "        level = levels[level_index] # set the level of the game\n",
    "\n",
    "        cz = CZ(level.buff)\n",
    "\n",
    "        nt = int(level.tree_density * number_cells) # randomly scatter trees amongst the playing area\n",
    "        trees = pygame.sprite.Group()\n",
    "        for i in range(nt):\n",
    "            j = random.randrange(0, cells_per_edge)\n",
    "            k = random.randrange(0, cells_per_edge)\n",
    "            tree = Tree()\n",
    "            tree.rect.x = j * cell_size\n",
    "            tree.rect.y = k * cell_size\n",
    "            trees.add(tree)\n",
    "\n",
    "        norcs = int(level.orc_density * number_cells) # randomly scatter orcs\n",
    "        orcs = pygame.sprite.Group()\n",
    "        for i in range(nt // 2):\n",
    "            j = random.randrange(0, cells_per_edge)\n",
    "            k = random.randrange(0, cells_per_edge)\n",
    "            orc = Orc()\n",
    "            orc.rect.x = j * cell_size\n",
    "            orc.rect.y = k * cell_size\n",
    "            orcs.add(orc)\n",
    "\n",
    "        hl = pygame.sprite.Group() # put orc in centre of playing area\n",
    "        hobbit = Hobbit()\n",
    "        hobbit.rect.x = hob_pos\n",
    "        hobbit.rect.y = hob_pos\n",
    "        hl.add(hobbit)\n",
    "\n",
    "        # kill all orcs in central zone around hobbit\n",
    "        z = pygame.sprite.spritecollide(cz, orcs, dokill=True, collided=None)\n",
    "        # kill tree if it is on hobbit's position\n",
    "        z = pygame.sprite.spritecollide(hobbit, trees, dokill=True, collided=None)\n",
    "        # kill orcs occupying same positions as trees\n",
    "        z = pygame.sprite.groupcollide(orcs, trees, True, False)\n",
    "\n",
    "        # define beginning scenario message\n",
    "        current_msg = \"%s :: %d Orcs\" % (level.title,len(orcs))\n",
    "        refresh_screen()\n",
    "            \n",
    "        # event loop for moves\n",
    "        exec_level = True # level is still being executed \n",
    "        while exec_level:\n",
    "            if not running:\n",
    "                break\n",
    "            for event in pygame.event.get():\n",
    "                if event.type == pygame.QUIT: # test to see if user has closed pygame window\n",
    "                    running=False\n",
    "                elif event.type == pygame.KEYDOWN: # test for key strokes that would move hobbit\n",
    "                    move_hobbit = False\n",
    "                    ek = event.key\n",
    "                    dx = dy = 0\n",
    "                    if ek in [K_KP1,K_n]:\n",
    "                        dx = -cell_size\n",
    "                        dy = cell_size\n",
    "                        move_hobbit = True\n",
    "                    elif ek in [K_KP2, K_DOWN, K_m]:\n",
    "                        dx = 0\n",
    "                        dy = cell_size\n",
    "                        move_hobbit = True\n",
    "                    elif ek in [K_KP3, K_COMMA]:\n",
    "                        dx = cell_size\n",
    "                        dy = cell_size\n",
    "                        move_hobbit = True\n",
    "                    elif ek in [K_KP4, K_LEFT, K_h]:\n",
    "                        dx = -cell_size\n",
    "                        dy = 0\n",
    "                        move_hobbit = True\n",
    "                    elif ek in [K_KP5,K_j]:\n",
    "                        dx = 0\n",
    "                        dy = 0\n",
    "                        move_hobbit = True\n",
    "                    elif ek in [K_KP6, K_RIGHT, K_k]:\n",
    "                        dx = cell_size\n",
    "                        dy = 0\n",
    "                        move_hobbit = True\n",
    "                    elif ek in [K_KP7, K_y]:\n",
    "                        dx = -cell_size\n",
    "                        dy = -cell_size\n",
    "                        move_hobbit = True\n",
    "                    elif ek in [K_KP8, K_UP, K_u]:\n",
    "                        dx = 0\n",
    "                        dy = -cell_size\n",
    "                        move_hobbit = True\n",
    "                    elif ek in [K_KP9, K_i]:\n",
    "                        dx = cell_size\n",
    "                        dy = -cell_size\n",
    "                        move_hobbit = True\n",
    "                   \n",
    "                    if move_hobbit: # hobbit is moving\n",
    "                        hobbit.rect.x += dx\n",
    "                        hobbit.rect.y += dy\n",
    "                        x = hobbit.rect.x\n",
    "                        y = hobbit.rect.y\n",
    "                        # don't let hobbit out of playing area\n",
    "                        if x < 0: \n",
    "                            hobbit.rect.x = 0\n",
    "                        elif x >= edge:\n",
    "                            hobbit.rect.x = edge - cell_size  \n",
    "                        if y < 0:\n",
    "                            hobbit.rect.y = 0\n",
    "                        elif y >= edge:\n",
    "                            hobbit.rect.y = edge - cell_size  \n",
    "                        # see if hobbit moved into a tree and, if so, can it hide\n",
    "                        if len(pygame.sprite.spritecollide(hobbit, trees, dokill=False)) > 0:\n",
    "                            if random.random() >= level.hide_prob:\n",
    "                                current_msg = \"%s :: Your ran into a tree, restart in a few seconds\" % (level.title,)\n",
    "                                refresh_screen()\n",
    "                                sleep(5)\n",
    "                                level_index=0\n",
    "                                exec_level = False\n",
    "                            else:\n",
    "                                current_msg = \"%s :: Your successful hid in the trees, move on\" % (level.title,)\n",
    "                                refresh_screen()\n",
    "                        # see if hobbit moved into an orc and, if so, can it kill it\n",
    "                        elif len(pygame.sprite.spritecollide(hobbit, orcs, dokill=False, collided=None)) > 0:\n",
    "                            if random.random() > level.attack_prob:\n",
    "                                current_msg = \"%s :: you ran into an orc, restart in a few seconds\" % level.title\n",
    "                                refresh_screen()\n",
    "                                sleep(5)\n",
    "                                level_index=0\n",
    "                                exec_level = False  \n",
    "                            else:\n",
    "                                current_msg = \"%s :: Your successful attacked orcs, move on\" % (level.title,)\n",
    "                                pygame.sprite.spritecollide(hobbit, orcs, dokill=True, collided=None)\n",
    "                                refresh_screen()\n",
    "                        else: # move orcs\n",
    "                            for orc in orcs:\n",
    "                                dx = x - orc.rect.x\n",
    "                                dy = y - orc.rect.y\n",
    "                                if abs(dx) > abs(dy):\n",
    "                                    orc.rect.x += copysign(cell_size, dx)\n",
    "                                elif abs(dy) > abs(dx):\n",
    "                                    orc.rect.y += copysign(cell_size, dy)\n",
    "                                else:\n",
    "                                    orc.rect.x += copysign(cell_size, dx)\n",
    "                                    orc.rect.y += copysign(cell_size, dy)\n",
    "                            # kill orcs hat run into trees\n",
    "                            pygame.sprite.groupcollide(orcs, trees, True, False) \n",
    "                            current_msg = \"%s :: %d Orcs\" % (level.title,len(orcs))\n",
    "                            # see if orcs capture hobbit\n",
    "                            if len(pygame.sprite.spritecollide(hobbit, orcs, dokill=False)) > 0:\n",
    "                                current_msg = \"%s :: The orcs caught you, restart in a few seconds\" % (level.title,)\n",
    "                                refresh_screen()\n",
    "                                sleep(5)\n",
    "                                level_index=0\n",
    "                                exec_level = False\n",
    "                            if len(orcs) == 0: # check to see if all orcs are dead\n",
    "                                level_index += 1\n",
    "                                if level_index < len(levels): # promote hobbit \n",
    "                                    level = levels[level_index]\n",
    "                                    current_msg = \">>> You have been recognized as a %s\" % (level.title,) \n",
    "                                    refresh_screen()\n",
    "                                    sleep(5)\n",
    "                                    exec_level = False\n",
    "                                else: # conquered all levels\n",
    "                                    current_msg = \"Congratulations, you are crowned as the Hobbit King !!!\"\n",
    "                                    refresh_screen()\n",
    "                                    sleep(5)\n",
    "                                    level_index=0\n",
    "                                    exec_level = False                      \n",
    "                        refresh_screen() # display current state of play\n",
    "\n",
    "# wrap up\n",
    "pygame.display.quit()\n",
    "pygame.quit()\n",
    "exit()"
   ]
  },
  {
   "cell_type": "code",
   "execution_count": null,
   "id": "079d801f",
   "metadata": {},
   "outputs": [],
   "source": []
  }
 ],
 "metadata": {
  "hide_input": false,
  "kernelspec": {
   "display_name": "Python 3 (ipykernel)",
   "language": "python",
   "name": "python3"
  },
  "language_info": {
   "codemirror_mode": {
    "name": "ipython",
    "version": 3
   },
   "file_extension": ".py",
   "mimetype": "text/x-python",
   "name": "python",
   "nbconvert_exporter": "python",
   "pygments_lexer": "ipython3",
   "version": "3.9.2"
  },
  "toc": {
   "base_numbering": 1,
   "nav_menu": {},
   "number_sections": true,
   "sideBar": true,
   "skip_h1_title": false,
   "title_cell": "Table of Contents",
   "title_sidebar": "Contents",
   "toc_cell": false,
   "toc_position": {},
   "toc_section_display": true,
   "toc_window_display": true
  },
  "varInspector": {
   "cols": {
    "lenName": 16,
    "lenType": 16,
    "lenVar": 40
   },
   "kernels_config": {
    "python": {
     "delete_cmd_postfix": "",
     "delete_cmd_prefix": "del ",
     "library": "var_list.py",
     "varRefreshCmd": "print(var_dic_list())"
    },
    "r": {
     "delete_cmd_postfix": ") ",
     "delete_cmd_prefix": "rm(",
     "library": "var_list.r",
     "varRefreshCmd": "cat(var_dic_list()) "
    }
   },
   "types_to_exclude": [
    "module",
    "function",
    "builtin_function_or_method",
    "instance",
    "_Feature"
   ],
   "window_display": false
  }
 },
 "nbformat": 4,
 "nbformat_minor": 5
}
